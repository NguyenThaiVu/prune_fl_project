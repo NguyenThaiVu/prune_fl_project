{
 "cells": [
  {
   "cell_type": "markdown",
   "metadata": {},
   "source": [
    "# Description\n",
    "\n",
    "In this notebook, I will train the CNN model in the FL system. During the training, I will prune the filters of the CNN."
   ]
  },
  {
   "cell_type": "code",
   "execution_count": 1,
   "metadata": {},
   "outputs": [
    {
     "name": "stderr",
     "output_type": "stream",
     "text": [
      "2024-04-12 12:44:14.582666: E tensorflow/compiler/xla/stream_executor/cuda/cuda_dnn.cc:9342] Unable to register cuDNN factory: Attempting to register factory for plugin cuDNN when one has already been registered\n",
      "2024-04-12 12:44:14.582684: E tensorflow/compiler/xla/stream_executor/cuda/cuda_fft.cc:609] Unable to register cuFFT factory: Attempting to register factory for plugin cuFFT when one has already been registered\n",
      "2024-04-12 12:44:14.582718: E tensorflow/compiler/xla/stream_executor/cuda/cuda_blas.cc:1518] Unable to register cuBLAS factory: Attempting to register factory for plugin cuBLAS when one has already been registered\n"
     ]
    }
   ],
   "source": [
    "import os\n",
    "os.environ['TF_CPP_MIN_LOG_LEVEL'] = '2'\n",
    "import tensorflow as tf\n",
    "tf.random.set_seed(42)\n",
    "gpus = tf.config.list_physical_devices('GPU')\n",
    "if gpus:\n",
    "  try:  tf.config.experimental.set_memory_growth(gpus[0], True)\n",
    "  except RuntimeError as e: print(e)\n",
    "\n",
    "import random\n",
    "import numpy as np\n",
    "import matplotlib.pyplot as plt\n",
    "import seaborn as sns\n",
    "from skimage.transform import resize\n",
    "\n",
    "from sklearn.model_selection import train_test_split\n",
    "\n",
    "from config import *\n",
    "from utils.read_data_utils import *\n",
    "from utils.model_utils import *\n",
    "from utils.pruning_utils import *"
   ]
  },
  {
   "cell_type": "markdown",
   "metadata": {},
   "source": [
    "# 1. Dataset"
   ]
  },
  {
   "cell_type": "markdown",
   "metadata": {},
   "source": [
    "## 1.1. Load dataset"
   ]
  },
  {
   "cell_type": "code",
   "execution_count": 3,
   "metadata": {},
   "outputs": [],
   "source": [
    "emnist_train, emnist_test = tff.simulation.datasets.emnist.load_data()"
   ]
  },
  {
   "cell_type": "code",
   "execution_count": 4,
   "metadata": {},
   "outputs": [
    {
     "name": "stdout",
     "output_type": "stream",
     "text": [
      "Number of clients: 3383\n",
      "Total number of samples in training set: 341873\n",
      "Average number of samples per client: 101.0561631687851\n"
     ]
    }
   ],
   "source": [
    "num_clients = len(emnist_train.client_ids)\n",
    "print(f\"Number of clients: {num_clients}\")\n",
    "\n",
    "list_num_samples = []\n",
    "for idx_client in range(num_clients):\n",
    "    num_samples = len(list(emnist_train.create_tf_dataset_for_client(emnist_train.client_ids[idx_client])))\n",
    "    list_num_samples.append(num_samples)\n",
    "list_num_samples = np.array(list_num_samples)\n",
    "\n",
    "print(f\"Total number of samples in training set: {list_num_samples.sum()}\")\n",
    "print(f\"Average number of samples per client: {list_num_samples.mean()}\")"
   ]
  },
  {
   "cell_type": "markdown",
   "metadata": {},
   "source": [
    "## 1.2. Prepare training dataset"
   ]
  },
  {
   "cell_type": "code",
   "execution_count": 5,
   "metadata": {},
   "outputs": [
    {
     "name": "stdout",
     "output_type": "stream",
     "text": [
      "Number of user: 3383\n"
     ]
    }
   ],
   "source": [
    "list_clients_data = Create_Clients_Data(emnist_train, DATASET_NAME)\n",
    "print(f\"Number of user: {len(list_clients_data)}\")"
   ]
  },
  {
   "cell_type": "code",
   "execution_count": 6,
   "metadata": {},
   "outputs": [
    {
     "name": "stdout",
     "output_type": "stream",
     "text": [
      "Number of client: 3383\n"
     ]
    },
    {
     "name": "stderr",
     "output_type": "stream",
     "text": [
      "/home/necphy/miniconda3/envs/fl_env/lib/python3.9/site-packages/seaborn/_oldcore.py:1498: FutureWarning: is_categorical_dtype is deprecated and will be removed in a future version. Use isinstance(dtype, CategoricalDtype) instead\n",
      "  if pd.api.types.is_categorical_dtype(vector):\n",
      "/home/necphy/miniconda3/envs/fl_env/lib/python3.9/site-packages/seaborn/_oldcore.py:1119: FutureWarning: use_inf_as_na option is deprecated and will be removed in a future version. Convert inf values to NaN before operating instead.\n",
      "  with pd.option_context('mode.use_inf_as_na', True):\n"
     ]
    },
    {
     "data": {
      "image/png": "[encoded data removed]",
      "text/plain": [
       "<Figure size 640x480 with 1 Axes>"
      ]
     },
     "metadata": {},
     "output_type": "display_data"
    }
   ],
   "source": [
    "list_num_samples = []\n",
    "\n",
    "for client_data in list_clients_data:\n",
    "    list_X = client_data['list_X']\n",
    "    list_num_samples.append(len(list_X))\n",
    "\n",
    "print(f\"Number of client: {len(list_num_samples)}\")\n",
    "plt.title(\"Histogram of number of samples per client\")\n",
    "sns.histplot(list_num_samples)\n",
    "plt.show();"
   ]
  },
  {
   "cell_type": "code",
   "execution_count": 7,
   "metadata": {},
   "outputs": [
    {
     "name": "stdout",
     "output_type": "stream",
     "text": [
      "Shape of image: (28, 28, 1)\n",
      "Client name= f0001_41\n",
      "Label = [1. 0. 0. 0. 0. 0. 0. 0. 0. 0.]\n"
     ]
    },
    {
     "data": {
      "image/png": "[encoded data removed]",
      "text/plain": [
       "<Figure size 640x480 with 1 Axes>"
      ]
     },
     "metadata": {},
     "output_type": "display_data"
    }
   ],
   "source": [
    "idx_client = idx_sample = np.random.randint(0, 50)\n",
    "\n",
    "client_data = list_clients_data[idx_client]\n",
    "\n",
    "client_name = client_data['client_name']\n",
    "list_X = client_data['list_X']\n",
    "list_y = client_data['list_y']\n",
    "\n",
    "X = list_X[idx_sample]\n",
    "print(f\"Shape of image: {X.shape}\")\n",
    "y = list_y[idx_sample]\n",
    "\n",
    "print(f\"Client name= {client_name}\")\n",
    "print(f\"Label = {y}\")\n",
    "plt.imshow(X, cmap='gray')\n",
    "plt.show();"
   ]
  },
  {
   "cell_type": "markdown",
   "metadata": {},
   "source": [
    "## 1.3. Prepare val - test dataset"
   ]
  },
  {
   "cell_type": "code",
   "execution_count": 9,
   "metadata": {},
   "outputs": [
    {
     "name": "stdout",
     "output_type": "stream",
     "text": [
      "Shape of X val: (20416, 28, 28, 1)\n",
      "Shape of y val: (20416, 10)\n",
      "Shape of X test: (20416, 28, 28, 1)\n",
      "Shape of y test: (20416, 10)\n"
     ]
    }
   ],
   "source": [
    "list_data_test = Create_Clients_Data(emnist_test)\n",
    "\n",
    "X_test = []\n",
    "y_test = []\n",
    "for data_test in list_data_test:\n",
    "    X_test.append(data_test['list_X'])\n",
    "    y_test.append(data_test['list_y'])\n",
    "X_test = np.concatenate(X_test)\n",
    "y_test = np.concatenate(y_test)\n",
    "\n",
    "X_val, X_test, y_val, y_test = train_test_split(X_test, y_test, test_size=0.5, random_state=42)\n",
    "\n",
    "print(f\"Shape of X val: {X_val.shape}\")\n",
    "print(f\"Shape of y val: {y_val.shape}\")\n",
    "\n",
    "print(f\"Shape of X test: {X_test.shape}\")\n",
    "print(f\"Shape of y test: {y_test.shape}\")"
   ]
  },
  {
   "cell_type": "markdown",
   "metadata": {},
   "source": [
    "# 2. Training FL "
   ]
  },
  {
   "cell_type": "code",
   "execution_count": 23,
   "metadata": {},
   "outputs": [],
   "source": [
    "keras.backend.clear_session()\n",
    "global_model = Define_Simple_CNN_Model(input_shape=INPUT_SHAPE, output_shape=OUPUT_SHAPE,\\\n",
    "                            list_number_kernel=LIST_NUMBER_KERNEL, kernel_size=KERNEL_SIZE, dropout_rate=DROPOUT_RATE,\\\n",
    "                            model_name=\"global_model\")\n",
    "global_model.compile(optimizer=OPTIMIZER, loss=LOSS, metrics = METRICS)\n",
    "# global_model.summary()"
   ]
  },
  {
   "cell_type": "code",
   "execution_count": 24,
   "metadata": {},
   "outputs": [],
   "source": [
    "client_model = keras.models.clone_model(global_model)    \n",
    "client_model.compile(optimizer=OPTIMIZER, loss=LOSS, metrics=METRICS)"
   ]
  },
  {
   "cell_type": "code",
   "execution_count": 25,
   "metadata": {},
   "outputs": [],
   "source": [
    "def prune_model(model, optimizer, loss_func, metrics, std_threshold=3.0):\n",
    "    \"\"\"\n",
    "    This function take input as model and perform model pruning to return the pruned filters CNN model.\n",
    "\n",
    "    * Parameters:\n",
    "        model (keras model): input model.\n",
    "        optimizer (keras optimizer).\n",
    "        loss_func (keras loss function).\n",
    "        metrics (keras metrics)\n",
    "        std_threshold (integer): threshold to prune filters.\n",
    "\n",
    "    * Return:\n",
    "        model (keras model) -- the pruned filters model.\n",
    "    \"\"\"\n",
    "\n",
    "    global IS_STILL_PRUNE\n",
    "    global PRUNE_PATIENCE\n",
    "    before_prune_params = model.count_params()\n",
    "\n",
    "    list_number_kernel = []\n",
    "    for layer in model.layers:\n",
    "        if isinstance(layer, Conv2D) and layer.name != 'classifier':\n",
    "            weights = layer.get_weights()[0]\n",
    "            pruned_kernel = Apply_Pruning_Filter(weights, std_threshold)\n",
    "            pruned_number_kernel = pruned_kernel.shape[-1]\n",
    "\n",
    "            if pruned_number_kernel <= 0:\n",
    "                pruned_number_kernel = 1\n",
    "            list_number_kernel.append(pruned_number_kernel)\n",
    "\n",
    "    new_model = Define_Simple_CNN_Model(input_shape=model.input_shape[1:], output_shape=model.output_shape[1], list_number_kernel=list_number_kernel)\n",
    "    new_model_params = new_model.count_params()\n",
    "\n",
    "    if before_prune_params > new_model_params:\n",
    "        PRUNE_PATIENCE = 0\n",
    "        print(f\"--- [INFO] This round PRUNE filter ---\")\n",
    "        new_model.compile(optimizer=optimizer, loss=loss_func, metrics=metrics)\n",
    "        return new_model\n",
    "    else:\n",
    "        PRUNE_PATIENCE += 1\n",
    "        print(f\"--- [INFO] This round NOT prune filter ---\")\n",
    "        if PRUNE_PATIENCE >= MAX_PRUNE_PATIENCE:\n",
    "            IS_STILL_PRUNE = False\n",
    "            print(f\"===== [INFO] Stop prune here! =====\")\n",
    "            print(f\"Final params: {before_prune_params}\")\n",
    "        return model\n"
   ]
  },
  {
   "cell_type": "code",
   "execution_count": 26,
   "metadata": {},
   "outputs": [
    {
     "name": "stdout",
     "output_type": "stream",
     "text": [
      "\n",
      " [INFO] Round 0\n",
      "Val loss: 2.2576775550842285, Val accuracy: 0.2901155948638916\n",
      "\n",
      " [INFO] Round 1\n",
      "--- [INFO] This round PRUNE filter ---\n",
      "Val loss: 2.271605968475342, Val accuracy: 0.14895179867744446\n",
      "\n",
      " [INFO] Round 2\n",
      "--- [INFO] This round PRUNE filter ---\n",
      "Val loss: 2.30131459236145, Val accuracy: 0.13842085003852844\n",
      "\n",
      " [INFO] Round 3\n",
      "--- [INFO] This round PRUNE filter ---\n",
      "Val loss: 2.2837893962860107, Val accuracy: 0.11280368268489838\n",
      "\n",
      " [INFO] Round 4\n",
      "--- [INFO] This round PRUNE filter ---\n",
      "Val loss: 2.291346549987793, Val accuracy: 0.09468064457178116\n",
      "\n",
      " [INFO] Round 5\n",
      "--- [INFO] This round PRUNE filter ---\n",
      "Val loss: 2.277313709259033, Val accuracy: 0.14278016984462738\n",
      "\n",
      " [INFO] Round 6\n",
      "--- [INFO] This round PRUNE filter ---\n",
      "Val loss: 2.289297580718994, Val accuracy: 0.15144984424114227\n",
      "\n",
      " [INFO] Round 7\n",
      "--- [INFO] This round PRUNE filter ---\n",
      "Val loss: 2.2869930267333984, Val accuracy: 0.23359130322933197\n",
      "\n",
      " [INFO] Round 8\n",
      "--- [INFO] This round PRUNE filter ---\n",
      "Val loss: 2.299830198287964, Val accuracy: 0.1000685766339302\n",
      "\n",
      " [INFO] Round 9\n",
      "--- [INFO] This round PRUNE filter ---\n",
      "Val loss: 2.300144910812378, Val accuracy: 0.09698276221752167\n",
      "\n",
      " [INFO] Round 10\n",
      "--- [INFO] This round PRUNE filter ---\n",
      "Val loss: 2.289635419845581, Val accuracy: 0.0956602692604065\n",
      "\n",
      " [INFO] Round 11\n",
      "--- [INFO] This round PRUNE filter ---\n",
      "Val loss: 2.307462692260742, Val accuracy: 0.11231387406587601\n",
      "\n",
      " [INFO] Round 12\n",
      "--- [INFO] This round PRUNE filter ---\n",
      "Val loss: 2.311671257019043, Val accuracy: 0.1125587746500969\n",
      "\n",
      " [INFO] Round 13\n",
      "--- [INFO] This round PRUNE filter ---\n",
      "Val loss: 2.3059842586517334, Val accuracy: 0.10834639519453049\n",
      "\n",
      " [INFO] Round 14\n",
      "--- [INFO] This round PRUNE filter ---\n",
      "Val loss: 2.2915163040161133, Val accuracy: 0.12989811599254608\n",
      "\n",
      " [INFO] Round 15\n",
      "--- [INFO] This round PRUNE filter ---\n",
      "Val loss: 2.2943365573883057, Val accuracy: 0.16266652941703796\n",
      "\n",
      " [INFO] Round 16\n",
      "--- [INFO] This round PRUNE filter ---\n",
      "Val loss: 2.3479483127593994, Val accuracy: 0.11231387406587601\n",
      "\n",
      " [INFO] Round 17\n",
      "--- [INFO] This round PRUNE filter ---\n",
      "Val loss: 2.29380202293396, Val accuracy: 0.18578565120697021\n",
      "\n",
      " [INFO] Round 18\n",
      "--- [INFO] This round PRUNE filter ---\n",
      "Val loss: 2.2956230640411377, Val accuracy: 0.11779976636171341\n",
      "\n",
      " [INFO] Round 19\n",
      "--- [INFO] This round PRUNE filter ---\n",
      "Val loss: 2.2863645553588867, Val accuracy: 0.1142241358757019\n",
      "\n",
      " [INFO] Round 20\n",
      "--- [INFO] This round PRUNE filter ---\n",
      "Val loss: 2.2761874198913574, Val accuracy: 0.17065046727657318\n",
      "\n",
      " [INFO] Round 21\n",
      "===== [INFO] Stop prune here! =====\n",
      "Final params: 10390\n",
      "Val loss: 2.2468197345733643, Val accuracy: 0.11285266280174255\n",
      "\n",
      " [INFO] Round 22\n",
      "Val loss: 2.216193437576294, Val accuracy: 0.11231387406587601\n",
      "\n",
      " [INFO] Round 23\n",
      "Val loss: 2.1857731342315674, Val accuracy: 0.11236285418272018\n",
      "\n",
      " [INFO] Round 24\n",
      "Val loss: 2.148019790649414, Val accuracy: 0.11270572245121002\n",
      "\n",
      " [INFO] Round 25\n",
      "Val loss: 2.1138899326324463, Val accuracy: 0.11378330737352371\n",
      "\n",
      " [INFO] Round 26\n",
      "Val loss: 2.0652992725372314, Val accuracy: 0.11873041093349457\n",
      "\n",
      " [INFO] Round 27\n",
      "Val loss: 2.00909161567688, Val accuracy: 0.12612657248973846\n",
      "\n",
      " [INFO] Round 28\n",
      "Val loss: 1.9419115781784058, Val accuracy: 0.14807014167308807\n",
      "\n",
      " [INFO] Round 29\n",
      "Val loss: 1.8749275207519531, Val accuracy: 0.17535266280174255\n",
      "\n",
      " [INFO] Round 30\n",
      "Val loss: 1.753553032875061, Val accuracy: 0.2635188102722168\n",
      "\n",
      " [INFO] Round 31\n",
      "Val loss: 1.649192452430725, Val accuracy: 0.3446316719055176\n",
      "\n",
      " [INFO] Round 32\n",
      "Val loss: 1.5034841299057007, Val accuracy: 0.4849627614021301\n",
      "\n",
      " [INFO] Round 33\n",
      "Val loss: 1.381973385810852, Val accuracy: 0.5758228898048401\n",
      "\n",
      " [INFO] Round 34\n",
      "Val loss: 1.2560173273086548, Val accuracy: 0.6546825766563416\n",
      "\n",
      " [INFO] Round 35\n",
      "Val loss: 1.1153782606124878, Val accuracy: 0.7353546023368835\n",
      "\n",
      " [INFO] Round 36\n",
      "Val loss: 0.9908896684646606, Val accuracy: 0.7911441922187805\n",
      "\n",
      " [INFO] Round 37\n",
      "Val loss: 0.8774465918540955, Val accuracy: 0.8256759643554688\n",
      "\n",
      " [INFO] Round 38\n",
      "Val loss: 0.7762596607208252, Val accuracy: 0.8503134846687317\n",
      "\n",
      " [INFO] Round 39\n",
      "Val loss: 0.680648922920227, Val accuracy: 0.8715713024139404\n",
      "\n",
      " [INFO] Round 40\n",
      "Val loss: 0.5890541076660156, Val accuracy: 0.8926821947097778\n",
      "\n",
      " [INFO] Round 41\n",
      "Val loss: 0.5095483660697937, Val accuracy: 0.9044377207756042\n",
      "\n",
      " [INFO] Round 42\n",
      "Val loss: 0.4445907473564148, Val accuracy: 0.9105113744735718\n",
      "\n",
      " [INFO] Round 43\n",
      "Val loss: 0.39027392864227295, Val accuracy: 0.9174667000770569\n",
      "\n",
      " [INFO] Round 44\n",
      "Val loss: 0.3470197916030884, Val accuracy: 0.9230995178222656\n",
      "\n",
      " [INFO] Round 45\n",
      "Val loss: 0.3204055428504944, Val accuracy: 0.9208953976631165\n",
      "\n",
      " [INFO] Round 46\n",
      "Val loss: 0.29140591621398926, Val accuracy: 0.9244710206985474\n",
      "\n",
      " [INFO] Round 47\n",
      "Val loss: 0.26505783200263977, Val accuracy: 0.9287323951721191\n",
      "\n",
      " [INFO] Round 48\n",
      "Val loss: 0.24627052247524261, Val accuracy: 0.9317691922187805\n",
      "\n",
      " [INFO] Round 49\n",
      "Val loss: 0.23054590821266174, Val accuracy: 0.9337284564971924\n",
      "\n",
      " [INFO] Round 50\n",
      "Val loss: 0.22560103237628937, Val accuracy: 0.9319651126861572\n",
      "\n",
      " [INFO] Round 51\n",
      "Val loss: 0.21008020639419556, Val accuracy: 0.9370591640472412\n",
      "\n",
      " [INFO] Round 52\n",
      "Val loss: 0.19617336988449097, Val accuracy: 0.9404388666152954\n",
      "\n",
      " [INFO] Round 53\n",
      "Val loss: 0.19188271462917328, Val accuracy: 0.9395571947097778\n",
      "\n",
      " [INFO] Round 54\n",
      "Val loss: 0.18552087247371674, Val accuracy: 0.9408307075500488\n",
      "\n",
      " [INFO] Round 55\n",
      "Val loss: 0.1791994273662567, Val accuracy: 0.9432308077812195\n",
      "\n",
      " [INFO] Round 56\n",
      "Val loss: 0.16920220851898193, Val accuracy: 0.9478350281715393\n",
      "\n",
      " [INFO] Round 57\n",
      "Val loss: 0.17111285030841827, Val accuracy: 0.946414589881897\n",
      "\n",
      " [INFO] Round 58\n",
      "Val loss: 0.17255768179893494, Val accuracy: 0.9455329179763794\n",
      "\n",
      " [INFO] Round 59\n",
      "Val loss: 0.16912418603897095, Val accuracy: 0.9462186694145203\n",
      "\n",
      " [INFO] Round 60\n",
      "Val loss: 0.174453005194664, Val accuracy: 0.9450430870056152\n",
      "\n",
      " [INFO] Round 61\n",
      "Val loss: 0.15994811058044434, Val accuracy: 0.9500881433486938\n",
      "\n",
      " [INFO] Round 62\n",
      "Val loss: 0.15932631492614746, Val accuracy: 0.9499902129173279\n",
      "\n",
      " [INFO] Round 63\n",
      "Val loss: 0.16300123929977417, Val accuracy: 0.9487656950950623\n",
      "\n",
      " [INFO] Round 64\n",
      "Val loss: 0.16530944406986237, Val accuracy: 0.9481778740882874\n",
      "\n",
      " [INFO] Round 65\n",
      "Val loss: 0.16483458876609802, Val accuracy: 0.94793301820755\n",
      "\n",
      " [INFO] Round 66\n",
      "Val loss: 0.15862897038459778, Val accuracy: 0.95023512840271\n",
      "\n",
      " [INFO] Round 67\n",
      "Val loss: 0.155661478638649, Val accuracy: 0.9511657357215881\n",
      "\n",
      " [INFO] Round 68\n",
      "Val loss: 0.14895449578762054, Val accuracy: 0.9532719254493713\n",
      "\n",
      " [INFO] Round 69\n",
      "Val loss: 0.14795902371406555, Val accuracy: 0.9537127614021301\n",
      "\n",
      " [INFO] Round 70\n",
      "Val loss: 0.1443890482187271, Val accuracy: 0.9558189511299133\n",
      "\n",
      " [INFO] Round 71\n",
      "Val loss: 0.14576689898967743, Val accuracy: 0.9543005228042603\n",
      "\n",
      " [INFO] Round 72\n",
      "Val loss: 0.14507617056369781, Val accuracy: 0.9550352692604065\n",
      "\n",
      " [INFO] Round 73\n",
      "Val loss: 0.1507873833179474, Val accuracy: 0.9528800845146179\n",
      "\n",
      " [INFO] Round 74\n",
      "Val loss: 0.14402557909488678, Val accuracy: 0.9545944333076477\n",
      "\n",
      " [INFO] Round 75\n",
      "Val loss: 0.14223070442676544, Val accuracy: 0.9558189511299133\n",
      "\n",
      " [INFO] Round 76\n",
      "Val loss: 0.13773185014724731, Val accuracy: 0.958561897277832\n",
      "\n",
      " [INFO] Round 77\n",
      "Val loss: 0.13862788677215576, Val accuracy: 0.9575822949409485\n",
      "\n",
      " [INFO] Round 78\n",
      "Val loss: 0.1377812623977661, Val accuracy: 0.9576312899589539\n",
      "\n",
      " [INFO] Round 79\n",
      "Val loss: 0.14374792575836182, Val accuracy: 0.9556230306625366\n",
      "\n",
      " [INFO] Round 80\n",
      "Val loss: 0.1453886777162552, Val accuracy: 0.9554271101951599\n",
      "\n",
      " [INFO] Round 81\n",
      "Val loss: 0.13893751800060272, Val accuracy: 0.9579251408576965\n",
      "\n",
      " [INFO] Round 82\n",
      "Val loss: 0.13226450979709625, Val accuracy: 0.9606680870056152\n",
      "\n",
      " [INFO] Round 83\n",
      "Val loss: 0.13199207186698914, Val accuracy: 0.9606191515922546\n",
      "\n",
      " [INFO] Round 84\n",
      "Val loss: 0.13380832970142365, Val accuracy: 0.9595415592193604\n",
      "\n",
      " [INFO] Round 85\n",
      "Val loss: 0.13148586452007294, Val accuracy: 0.9603252410888672\n",
      "\n",
      " [INFO] Round 86\n",
      "Val loss: 0.12897180020809174, Val accuracy: 0.9614028334617615\n",
      "\n",
      " [INFO] Round 87\n",
      "Val loss: 0.14473338425159454, Val accuracy: 0.9550352692604065\n",
      "\n",
      " [INFO] Round 88\n",
      "Val loss: 0.14558134973049164, Val accuracy: 0.9555740356445312\n",
      "\n",
      " [INFO] Round 89\n",
      "Val loss: 0.16482003033161163, Val accuracy: 0.9490595459938049\n",
      "\n",
      " [INFO] Round 90\n",
      "Val loss: 0.14090846478939056, Val accuracy: 0.9559169411659241\n",
      "\n",
      " [INFO] Round 91\n",
      "Val loss: 0.13057713210582733, Val accuracy: 0.9601783156394958\n",
      "\n",
      " [INFO] Round 92\n",
      "Val loss: 0.12302086502313614, Val accuracy: 0.9629212617874146\n",
      "\n",
      " [INFO] Round 93\n",
      "Val loss: 0.1195446327328682, Val accuracy: 0.9647335410118103\n",
      "\n",
      " [INFO] Round 94\n",
      "Val loss: 0.11652887612581253, Val accuracy: 0.9661539793014526\n",
      "\n",
      " [INFO] Round 95\n",
      "Val loss: 0.11798028647899628, Val accuracy: 0.9655662178993225\n",
      "\n",
      " [INFO] Round 96\n",
      "Val loss: 0.12142565101385117, Val accuracy: 0.9631661176681519\n",
      "\n",
      " [INFO] Round 97\n",
      "Val loss: 0.1363900601863861, Val accuracy: 0.9588558077812195\n",
      "\n",
      " [INFO] Round 98\n",
      "Val loss: 0.1243368610739708, Val accuracy: 0.9621865153312683\n",
      "\n",
      " [INFO] Round 99\n",
      "Val loss: 0.11925853043794632, Val accuracy: 0.9638028740882874\n"
     ]
    }
   ],
   "source": [
    "NUM_CLIENTS = num_clients\n",
    "list_val_acc = []\n",
    "list_val_loss = []\n",
    "list_model_params = []\n",
    "\n",
    "\n",
    "for idx_round in range(NUM_ROUNDS):\n",
    "    print(\"\\n [INFO] Round {}\".format(idx_round))\n",
    "\n",
    "    if (idx_round > MAX_PRUNED_ROUND) and (IS_STILL_PRUNE == True):\n",
    "        IS_STILL_PRUNE = False\n",
    "        print(f\"===== [INFO] Stop prune here! =====\")\n",
    "        print(f\"Final params: {global_model.count_params()}\")\n",
    "\n",
    "    if (0 < idx_round) and (IS_STILL_PRUNE == True):\n",
    "        global_model = prune_model(global_model, optimizer=OPTIMIZER, loss_func=LOSS, metrics=METRICS, std_threshold=STD_THRESHOLD_PRUNE)\n",
    "\n",
    "        client_model = keras.models.clone_model(global_model)    \n",
    "        client_model.compile(optimizer=OPTIMIZER, loss=LOSS, metrics=METRICS)\n",
    "\n",
    "    # Select random subset of clients\n",
    "    selected_percent_client = np.random.uniform(0.0, MAX_SELECTED_PERCENT_CLIENT)\n",
    "    num_selected_clients = max(int(NUM_CLIENTS * selected_percent_client), 1)\n",
    "    selected_clients_data = random.sample(list_clients_data, num_selected_clients)\n",
    "\n",
    "    # Loop through selected client\n",
    "    list_client_model_weight = []\n",
    "    list_client_scales = []\n",
    "    for selectd_client_data in selected_clients_data:      \n",
    "        client_model.set_weights(global_model.get_weights())  # Clone global model\n",
    "\n",
    "        list_X = selectd_client_data['list_X']\n",
    "        list_y = selectd_client_data['list_y']\n",
    "        client_model.fit(list_X, list_y, epochs=LOCAL_EPOCHS, batch_size=LOCAL_BATCH_SIZE, verbose=0, validation_split=0.05)\n",
    "\n",
    "        list_client_model_weight.append(client_model.get_weights())    # store local weight for update global model later.\n",
    "        list_client_scales.append(len(list_X))\n",
    "    \n",
    "    # Calculate scale of each client\n",
    "    list_client_scales = np.array(list_client_scales)\n",
    "    list_client_scales = list_client_scales / list_client_scales.sum()\n",
    "\n",
    "    # Update the global model weights\n",
    "    avg_weights = FedAvg(global_model, list_client_model_weight, list_client_scales)\n",
    "    global_model.set_weights(avg_weights)\n",
    "\n",
    "    # Evaluate model on validation data\n",
    "    val_loss, val_acc = global_model.evaluate(X_val, y_val, verbose=0)\n",
    "    print(f'Val loss: {val_loss}, Val accuracy: {val_acc}')\n",
    "    list_val_acc.append(val_acc)\n",
    "    list_val_loss.append(val_loss)"
   ]
  },
  {
   "cell_type": "markdown",
   "metadata": {},
   "source": [
    "# 3. Evaluation"
   ]
  },
  {
   "cell_type": "code",
   "execution_count": 27,
   "metadata": {},
   "outputs": [
    {
     "name": "stdout",
     "output_type": "stream",
     "text": [
      "Shape of X test: (20416, 28, 28, 1)\n",
      "Shape of y test: (20416, 10)\n"
     ]
    }
   ],
   "source": [
    "# X_test = np.array([resize(image, (IMAGE_DIMENSION, IMAGE_DIMENSION)) for image in X_test])\n",
    "print(f\"Shape of X test: {X_test.shape}\")\n",
    "print(f\"Shape of y test: {y_test.shape}\")"
   ]
  },
  {
   "cell_type": "code",
   "execution_count": 28,
   "metadata": {},
   "outputs": [
    {
     "name": "stdout",
     "output_type": "stream",
     "text": [
      "Val loss: 0.1259092092514038, Val accuracy: 0.9610599279403687\n"
     ]
    }
   ],
   "source": [
    "# Evaluate model on testing data\n",
    "val_loss, val_acc = global_model.evaluate(X_test, y_test, verbose=0)\n",
    "print(f'Val loss: {val_loss}, Val accuracy: {val_acc}')"
   ]
  },
  {
   "cell_type": "code",
   "execution_count": null,
   "metadata": {},
   "outputs": [],
   "source": []
  }
 ],
 "metadata": {
  "kernelspec": {
   "display_name": "fl_env",
   "language": "python",
   "name": "python3"
  },
  "language_info": {
   "codemirror_mode": {
    "name": "ipython",
    "version": 3
   },
   "file_extension": ".py",
   "mimetype": "text/x-python",
   "name": "python",
   "nbconvert_exporter": "python",
   "pygments_lexer": "ipython3",
   "version": "3.9.18"
  }
 },
 "nbformat": 4,
 "nbformat_minor": 2
}
