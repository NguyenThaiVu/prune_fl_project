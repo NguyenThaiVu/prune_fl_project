{
 "cells": [
  {
   "cell_type": "markdown",
   "metadata": {},
   "source": [
    "# Description\n",
    "\n",
    "In this notebook, I will train the CNN model in the FL system. During the training, I will prune the filters of the CNN."
   ]
  },
  {
   "cell_type": "code",
   "execution_count": 1,
   "metadata": {},
   "outputs": [
    {
     "name": "stderr",
     "output_type": "stream",
     "text": [
      "2024-05-21 21:20:12.685637: E tensorflow/compiler/xla/stream_executor/cuda/cuda_dnn.cc:9342] Unable to register cuDNN factory: Attempting to register factory for plugin cuDNN when one has already been registered\n",
      "2024-05-21 21:20:12.685657: E tensorflow/compiler/xla/stream_executor/cuda/cuda_fft.cc:609] Unable to register cuFFT factory: Attempting to register factory for plugin cuFFT when one has already been registered\n",
      "2024-05-21 21:20:12.685692: E tensorflow/compiler/xla/stream_executor/cuda/cuda_blas.cc:1518] Unable to register cuBLAS factory: Attempting to register factory for plugin cuBLAS when one has already been registered\n"
     ]
    }
   ],
   "source": [
    "import os\n",
    "os.environ['TF_CPP_MIN_LOG_LEVEL'] = '2'\n",
    "import tensorflow as tf\n",
    "tf.random.set_seed(42)\n",
    "gpus = tf.config.list_physical_devices('GPU')\n",
    "if gpus:\n",
    "  try:  tf.config.experimental.set_memory_growth(gpus[0], True)\n",
    "  except RuntimeError as e: print(e)\n",
    "\n",
    "import gc\n",
    "import random\n",
    "import numpy as np\n",
    "import matplotlib.pyplot as plt\n",
    "import seaborn as sns\n",
    "from skimage.transform import resize\n",
    "\n",
    "from sklearn.model_selection import train_test_split\n",
    "\n",
    "from config_femnist import *\n",
    "from utils.read_data_utils import *\n",
    "from utils.model_utils import *\n",
    "from utils.pruning_utils import *"
   ]
  },
  {
   "cell_type": "code",
   "execution_count": 2,
   "metadata": {},
   "outputs": [],
   "source": [
    "# =========================================================\n",
    "# Dataset Hyper-parameter\n",
    "DATASET_NAME = 'mnist'  # mnist\n",
    "\n",
    "IMAGE_DIMENSION = 28\n",
    "INPUT_SHAPE = (IMAGE_DIMENSION, IMAGE_DIMENSION, 1)\n",
    "\n",
    "OUPUT_SHAPE = 62 # \n",
    "\n",
    "\n",
    "# =========================================================\n",
    "# Model Hyper-parameter\n",
    "OPTIMIZER = 'adam'\n",
    "LOSS = 'categorical_crossentropy'\n",
    "METRICS = ['accuracy']\n",
    "\n",
    "LIST_NUMBER_FILTERS = [32, 64]\n",
    "FILTER_SIZE = 5\n",
    "\n",
    "MODEL_TYPE = \"vanilla_conv\" # ['vanilla_conv', 'resnet', 'xception']\n",
    "PATH_GLOBAL_MODEL = os.path.join(\"models\", \"global_model_femnist_prune.h5\")\n",
    "\n",
    "\n",
    "# =========================================================\n",
    "# Training Hyper-parameter\n",
    "NUM_ROUNDS = 500\n",
    "NUM_SELECTED_CLIENT = 50\n",
    "\n",
    "LOCAL_EPOCHS = 5\n",
    "LOCAL_BATCH_SIZE = 32\n",
    "\n",
    "MAX_PRUNED_ROUND = 50\n",
    "IS_STILL_PRUNE = True\n",
    "PRUNE_PATIENCE = 0\n",
    "MAX_PRUNE_PATIENCE = 3\n",
    "\n",
    "STD_THRESHOLD_PRUNE = 2.2"
   ]
  },
  {
   "cell_type": "markdown",
   "metadata": {},
   "source": [
    "# 1. Dataset"
   ]
  },
  {
   "cell_type": "markdown",
   "metadata": {},
   "source": [
    "## 1.1. Load dataset"
   ]
  },
  {
   "cell_type": "code",
   "execution_count": 3,
   "metadata": {},
   "outputs": [],
   "source": [
    "emnist_train, emnist_test = tff.simulation.datasets.emnist.load_data(only_digits=False)"
   ]
  },
  {
   "cell_type": "code",
   "execution_count": 4,
   "metadata": {},
   "outputs": [
    {
     "name": "stdout",
     "output_type": "stream",
     "text": [
      "Number of clients: 3400\n",
      "Total number of samples in training set: 671585\n",
      "Average number of samples per client: 197.525\n"
     ]
    }
   ],
   "source": [
    "num_clients = len(emnist_train.client_ids)\n",
    "print(f\"Number of clients: {num_clients}\")\n",
    "\n",
    "list_num_samples = []\n",
    "for idx_client in range(num_clients):\n",
    "    num_samples = len(list(emnist_train.create_tf_dataset_for_client(emnist_train.client_ids[idx_client])))\n",
    "    list_num_samples.append(num_samples)\n",
    "list_num_samples = np.array(list_num_samples)\n",
    "\n",
    "print(f\"Total number of samples in training set: {list_num_samples.sum()}\")\n",
    "print(f\"Average number of samples per client: {list_num_samples.mean()}\")"
   ]
  },
  {
   "cell_type": "markdown",
   "metadata": {},
   "source": [
    "## 1.2. Prepare training dataset"
   ]
  },
  {
   "cell_type": "code",
   "execution_count": 5,
   "metadata": {},
   "outputs": [
    {
     "name": "stdout",
     "output_type": "stream",
     "text": [
      "Number of user: 3400\n"
     ]
    }
   ],
   "source": [
    "list_clients_data = Create_Clients_Data(emnist_train, DATASET_NAME)\n",
    "print(f\"Number of user: {len(list_clients_data)}\")"
   ]
  },
  {
   "cell_type": "code",
   "execution_count": 6,
   "metadata": {},
   "outputs": [
    {
     "name": "stdout",
     "output_type": "stream",
     "text": [
      "Number of client: 3400\n"
     ]
    },
    {
     "name": "stderr",
     "output_type": "stream",
     "text": [
      "/home/necphy/miniconda3/envs/fl_env/lib/python3.9/site-packages/seaborn/_oldcore.py:1498: FutureWarning: is_categorical_dtype is deprecated and will be removed in a future version. Use isinstance(dtype, CategoricalDtype) instead\n",
      "  if pd.api.types.is_categorical_dtype(vector):\n",
      "/home/necphy/miniconda3/envs/fl_env/lib/python3.9/site-packages/seaborn/_oldcore.py:1119: FutureWarning: use_inf_as_na option is deprecated and will be removed in a future version. Convert inf values to NaN before operating instead.\n",
      "  with pd.option_context('mode.use_inf_as_na', True):\n"
     ]
    },
    {
     "data": {
      "image/png": "[encoded data removed]",
      "text/plain": [
       "<Figure size 640x480 with 1 Axes>"
      ]
     },
     "metadata": {},
     "output_type": "display_data"
    }
   ],
   "source": [
    "list_num_samples = []\n",
    "\n",
    "for client_data in list_clients_data:\n",
    "    list_X = client_data['list_X']\n",
    "    list_num_samples.append(len(list_X))\n",
    "\n",
    "print(f\"Number of client: {len(list_num_samples)}\")\n",
    "plt.title(\"Histogram of number of samples per client\")\n",
    "sns.histplot(list_num_samples)\n",
    "plt.show();"
   ]
  },
  {
   "cell_type": "code",
   "execution_count": 7,
   "metadata": {},
   "outputs": [
    {
     "name": "stdout",
     "output_type": "stream",
     "text": [
      "Shape of image: (28, 28, 1)\n",
      "Client name= f0011_13\n",
      "Label = [0. 0. 0. 0. 0. 0. 0. 0. 0. 0. 0. 0. 0. 0. 1. 0. 0. 0. 0. 0. 0. 0. 0. 0.\n",
      " 0. 0. 0. 0. 0. 0. 0. 0. 0. 0. 0. 0. 0. 0. 0. 0. 0. 0. 0. 0. 0. 0. 0. 0.\n",
      " 0. 0. 0. 0. 0. 0. 0. 0. 0. 0. 0. 0. 0. 0.]\n"
     ]
    },
    {
     "data": {
      "image/png": "[encoded data removed]",
      "text/plain": [
       "<Figure size 640x480 with 1 Axes>"
      ]
     },
     "metadata": {},
     "output_type": "display_data"
    }
   ],
   "source": [
    "idx_client = idx_sample = np.random.randint(0, 50)\n",
    "\n",
    "client_data = list_clients_data[idx_client]\n",
    "\n",
    "client_name = client_data['client_name']\n",
    "list_X = client_data['list_X']\n",
    "list_y = client_data['list_y']\n",
    "\n",
    "X = list_X[idx_sample]\n",
    "print(f\"Shape of image: {X.shape}\")\n",
    "y = list_y[idx_sample]\n",
    "\n",
    "print(f\"Client name= {client_name}\")\n",
    "print(f\"Label = {y}\")\n",
    "plt.imshow(X, cmap='gray')\n",
    "plt.show();"
   ]
  },
  {
   "cell_type": "markdown",
   "metadata": {},
   "source": [
    "## 1.3. Prepare val - test dataset"
   ]
  },
  {
   "cell_type": "code",
   "execution_count": 8,
   "metadata": {},
   "outputs": [
    {
     "name": "stdout",
     "output_type": "stream",
     "text": [
      "Shape of X val: (38741, 28, 28, 1)\n",
      "Shape of y val: (38741, 62)\n",
      "Shape of X test: (38742, 28, 28, 1)\n",
      "Shape of y test: (38742, 62)\n"
     ]
    }
   ],
   "source": [
    "list_data_test = Create_Clients_Data(emnist_test)\n",
    "\n",
    "X_test = []\n",
    "y_test = []\n",
    "for data_test in list_data_test:\n",
    "    X_test.append(data_test['list_X'])\n",
    "    y_test.append(data_test['list_y'])\n",
    "X_test = np.concatenate(X_test)\n",
    "y_test = np.concatenate(y_test)\n",
    "\n",
    "X_val, X_test, y_val, y_test = train_test_split(X_test, y_test, test_size=0.5, random_state=42)\n",
    "\n",
    "print(f\"Shape of X val: {X_val.shape}\")\n",
    "print(f\"Shape of y val: {y_val.shape}\")\n",
    "\n",
    "print(f\"Shape of X test: {X_test.shape}\")\n",
    "print(f\"Shape of y test: {y_test.shape}\")"
   ]
  },
  {
   "cell_type": "markdown",
   "metadata": {},
   "source": [
    "# 2. Training FL "
   ]
  },
  {
   "cell_type": "code",
   "execution_count": 9,
   "metadata": {},
   "outputs": [],
   "source": [
    "def Define_Simple_CNN_Model(input_shape, output_shape, list_number_filters, kernel_size = 5, max_pooling_step=2, model_name=None):\n",
    "    \"\"\"\n",
    "    This function create the simple CNN model. \n",
    "    \"\"\"    \n",
    "    model = models.Sequential(name=model_name)\n",
    "    model.add(Input(input_shape))\n",
    "\n",
    "    for (idx_filter, number_filter) in enumerate(list_number_filters):\n",
    "        model.add(Conv2D(number_filter, (kernel_size, kernel_size), name=f'prunable_conv_{idx_filter}'))\n",
    "        # model.add(BatchNormalization())\n",
    "        model.add(Activation(\"relu\"))\n",
    "        model.add(MaxPooling2D(pool_size=max_pooling_step, strides=max_pooling_step))\n",
    "\n",
    "    # model.add(layers.Flatten())\n",
    "    model.add(layers.GlobalAveragePooling2D())\n",
    "    model.add(layers.Dense(output_shape, activation='softmax', name='classifier'))\n",
    "    return model"
   ]
  },
  {
   "cell_type": "code",
   "execution_count": 10,
   "metadata": {},
   "outputs": [
    {
     "name": "stdout",
     "output_type": "stream",
     "text": [
      "Model: \"global_model\"\n",
      "_________________________________________________________________\n",
      " Layer (type)                Output Shape              Param #   \n",
      "=================================================================\n",
      " prunable_conv_0 (Conv2D)    (None, 24, 24, 32)        832       \n",
      "                                                                 \n",
      " activation (Activation)     (None, 24, 24, 32)        0         \n",
      "                                                                 \n",
      " max_pooling2d (MaxPooling2  (None, 12, 12, 32)        0         \n",
      " D)                                                              \n",
      "                                                                 \n",
      " prunable_conv_1 (Conv2D)    (None, 8, 8, 64)          51264     \n",
      "                                                                 \n",
      " activation_1 (Activation)   (None, 8, 8, 64)          0         \n",
      "                                                                 \n",
      " max_pooling2d_1 (MaxPoolin  (None, 4, 4, 64)          0         \n",
      " g2D)                                                            \n",
      "                                                                 \n",
      " global_average_pooling2d (  (None, 64)                0         \n",
      " GlobalAveragePooling2D)                                         \n",
      "                                                                 \n",
      " classifier (Dense)          (None, 62)                4030      \n",
      "                                                                 \n",
      "=================================================================\n",
      "Total params: 56126 (219.24 KB)\n",
      "Trainable params: 56126 (219.24 KB)\n",
      "Non-trainable params: 0 (0.00 Byte)\n",
      "_________________________________________________________________\n",
      "Number of params: 56126\n",
      "WARNING:tensorflow:From /home/necphy/miniconda3/envs/fl_env/lib/python3.9/site-packages/tensorflow/python/ops/nn_ops.py:5253: tensor_shape_from_node_def_name (from tensorflow.python.framework.graph_util_impl) is deprecated and will be removed in a future version.\n",
      "Instructions for updating:\n",
      "This API was designed for TensorFlow v1. See https://www.tensorflow.org/guide/migrate for instructions on how to migrate your code to TensorFlow v2.\n"
     ]
    },
    {
     "name": "stderr",
     "output_type": "stream",
     "text": [
      "WARNING:tensorflow:From /home/necphy/miniconda3/envs/fl_env/lib/python3.9/site-packages/tensorflow/python/ops/nn_ops.py:5253: tensor_shape_from_node_def_name (from tensorflow.python.framework.graph_util_impl) is deprecated and will be removed in a future version.\n",
      "Instructions for updating:\n",
      "This API was designed for TensorFlow v1. See https://www.tensorflow.org/guide/migrate for instructions on how to migrate your code to TensorFlow v2.\n"
     ]
    },
    {
     "name": "stdout",
     "output_type": "stream",
     "text": [
      "FLOPS of global model: 7529588\n",
      "\n",
      "=========================Options=============================\n",
      "-max_depth                  10000\n",
      "-min_bytes                  0\n",
      "-min_peak_bytes             0\n",
      "-min_residual_bytes         0\n",
      "-min_output_bytes           0\n",
      "-min_micros                 0\n",
      "-min_accelerator_micros     0\n",
      "-min_cpu_micros             0\n",
      "-min_params                 0\n",
      "-min_float_ops              1\n",
      "-min_occurrence             0\n",
      "-step                       -1\n",
      "-order_by                   float_ops\n",
      "-account_type_regexes       .*\n",
      "-start_name_regexes         .*\n",
      "-trim_name_regexes          \n",
      "-show_name_regexes          .*\n",
      "-hide_name_regexes          \n",
      "-account_displayed_op_only  true\n",
      "-select                     float_ops\n",
      "-output                     stdout:\n",
      "\n",
      "==================Model Analysis Report======================\n",
      "\n",
      "Doc:\n",
      "op: The nodes are operation kernel type, such as MatMul, Conv2D. Graph nodes belonging to the same type are aggregated together.\n",
      "flops: Number of float operations. Note: Please read the implementation for the math behind it.\n",
      "\n",
      "Profile:\n",
      "node name | # float_ops\n",
      "Conv2D                   7.48m float_ops (100.00%, 99.28%)\n",
      "BiasAdd                  22.59k float_ops (0.72%, 0.30%)\n",
      "MaxPool                  22.53k float_ops (0.42%, 0.30%)\n",
      "MatMul                   7.94k float_ops (0.12%, 0.11%)\n",
      "Mean                     1.02k float_ops (0.02%, 0.01%)\n",
      "Softmax                    310 float_ops (0.00%, 0.00%)\n",
      "\n",
      "======================End of Report==========================\n"
     ]
    },
    {
     "name": "stderr",
     "output_type": "stream",
     "text": [
      "/home/necphy/miniconda3/envs/fl_env/lib/python3.9/site-packages/keras/src/engine/training.py:3079: UserWarning: You are saving your model as an HDF5 file via `model.save()`. This file format is considered legacy. We recommend using instead the native Keras format, e.g. `model.save('my_model.keras')`.\n",
      "  saving_api.save_model(\n"
     ]
    }
   ],
   "source": [
    "keras.backend.clear_session()\n",
    "global_model = Define_Simple_CNN_Model(input_shape=INPUT_SHAPE, output_shape=OUPUT_SHAPE,\\\n",
    "                            list_number_filters=LIST_NUMBER_FILTERS, model_name=\"global_model\")\n",
    "\n",
    "# global_model = Get_Model(MODEL_TYPE, INPUT_SHAPE, OUPUT_SHAPE, LIST_NUMBER_FILTERS, model_name=\"global_model\")\n",
    "\n",
    "global_model.compile(optimizer=OPTIMIZER, loss=LOSS, metrics = METRICS)\n",
    "global_model.summary()\n",
    "print(f\"Number of params: {global_model.count_params()}\")\n",
    "flops = get_flops_keras_model(global_model)\n",
    "print(f\"FLOPS of global model: {flops}\")\n",
    "global_model.save(PATH_GLOBAL_MODEL)"
   ]
  },
  {
   "cell_type": "code",
   "execution_count": 1,
   "metadata": {},
   "outputs": [],
   "source": [
    "def prune_model(model, optimizer, loss_func, metrics, std_threshold=3.0):\n",
    "    \"\"\"\n",
    "    This function take input as model and perform model pruning to return the pruned filters CNN model.\n",
    "\n",
    "    * Parameters:\n",
    "        model (keras model): input model.\n",
    "        optimizer (keras optimizer).\n",
    "        loss_func (keras loss function).\n",
    "        metrics (keras metrics)\n",
    "        std_threshold (integer): threshold to prune filters.\n",
    "\n",
    "    * Return:\n",
    "        model (keras model) -- the pruned filters model.\n",
    "    \"\"\"\n",
    "\n",
    "    global IS_STILL_PRUNE\n",
    "    global PRUNE_PATIENCE\n",
    "    before_prune_params = model.count_params()\n",
    "\n",
    "    list_number_filters = []\n",
    "    for layer in model.layers:\n",
    "        if isinstance(layer, Conv2D) and layer.name != 'classifier' and 'prunable_conv' in layer.name:\n",
    "            weights = layer.get_weights()[0]\n",
    "            pruned_filter = Apply_Pruning_Filter(weights, std_threshold)\n",
    "            pruned_number_filter = pruned_filter.shape[-1]\n",
    "\n",
    "            if pruned_number_filter <= 0:\n",
    "                pruned_number_filter = 1\n",
    "            list_number_filters.append(pruned_number_filter)\n",
    "\n",
    "    new_model = Define_Simple_CNN_Model(input_shape=model.input_shape[1:], output_shape=model.output_shape[1], list_number_filters=list_number_filters)\n",
    "    new_model_params = new_model.count_params()\n",
    "\n",
    "    if before_prune_params > new_model_params:\n",
    "        PRUNE_PATIENCE = 0\n",
    "        print(f\"--- [INFO] This round PRUNE filter ---\")\n",
    "        new_model.compile(optimizer=optimizer, loss=loss_func, metrics=metrics)\n",
    "        return new_model\n",
    "    else:\n",
    "        PRUNE_PATIENCE += 1\n",
    "        print(f\"--- [INFO] This round NOT prune filter ---\")\n",
    "        if PRUNE_PATIENCE >= MAX_PRUNE_PATIENCE:\n",
    "            IS_STILL_PRUNE = False\n",
    "            print(f\"===== [INFO] Stop prune here! =====\")\n",
    "            print(f\"Final params: {before_prune_params}\")\n",
    "        return model"
   ]
  },
  {
   "cell_type": "code",
   "execution_count": null,
   "metadata": {},
   "outputs": [],
   "source": [
    "NUM_CLIENTS = num_clients\n",
    "list_val_acc = []\n",
    "list_val_loss = []\n",
    "\n",
    "\n",
    "for idx_round in range(NUM_ROUNDS):\n",
    "    print(\"\\n [INFO] Round {}\".format(idx_round))\n",
    "\n",
    "    # Load global model at begin of each round.\n",
    "    global_model = keras.models.load_model(PATH_GLOBAL_MODEL)\n",
    "    global_model.compile(optimizer=OPTIMIZER, loss=LOSS, metrics = METRICS)\n",
    "    \n",
    "    # Perform the pruning process\n",
    "    if IS_STILL_PRUNE == True:\n",
    "        if idx_round > MAX_PRUNED_ROUND:\n",
    "            IS_STILL_PRUNE = False\n",
    "            print(f\"===== [INFO] Stop prune here. Final params: {global_model.count_params()}\")\n",
    "        elif idx_round > 0:\n",
    "            global_model = prune_model(global_model, optimizer=OPTIMIZER, loss_func=LOSS, metrics=METRICS, std_threshold=STD_THRESHOLD_PRUNE)\n",
    "    \n",
    "    # Clients clone model from server\n",
    "    client_model = keras.models.clone_model(global_model)    \n",
    "    client_model.compile(optimizer=OPTIMIZER, loss=LOSS, metrics=METRICS)\n",
    "\n",
    "    selected_clients_data = random.sample(list_clients_data, NUM_SELECTED_CLIENT)  # Random subset clients\n",
    "\n",
    "    # Loop through selected client\n",
    "    list_client_model_weight = []\n",
    "    list_client_scales = []\n",
    "    for selectd_client_data in selected_clients_data:      \n",
    "        client_model.set_weights(global_model.get_weights())  # Clone global model\n",
    "\n",
    "        list_X = selectd_client_data['list_X']\n",
    "        list_y = selectd_client_data['list_y']\n",
    "        client_model.fit(list_X, list_y, epochs=LOCAL_EPOCHS, batch_size=LOCAL_BATCH_SIZE, verbose=0)\n",
    "\n",
    "        list_client_model_weight.append(client_model.get_weights())    # store local weight for update global model later.\n",
    "        list_client_scales.append(len(list_X))\n",
    "    \n",
    "    # Calculate scale of each client\n",
    "    list_client_scales = np.array(list_client_scales)\n",
    "    list_client_scales = list_client_scales / list_client_scales.sum()\n",
    "\n",
    "    # Update the global model weights\n",
    "    avg_weights = FedAvg(global_model, list_client_model_weight, list_client_scales)\n",
    "    global_model.set_weights(avg_weights)\n",
    "\n",
    "    # Evaluate model on validation data\n",
    "    if idx_round % 10 == 0:\n",
    "        val_loss, val_acc = global_model.evaluate(X_val, y_val, verbose=0)\n",
    "        print(f'Val loss: {val_loss}, Val accuracy: {val_acc}')\n",
    "        list_val_acc.append(val_acc)\n",
    "        list_val_loss.append(val_loss)\n",
    "\n",
    "    global_model.save(PATH_GLOBAL_MODEL)\n",
    "    tf.keras.backend.clear_session()\n",
    "\n",
    "    selected_clients_data = None\n",
    "    list_client_model_weight = list_client_scales = None\n",
    "    gc.collect()"
   ]
  },
  {
   "cell_type": "code",
   "execution_count": null,
   "metadata": {},
   "outputs": [],
   "source": [
    "# Line plot for FL training\n",
    "list_rounds = np.arange(0, NUM_ROUNDS, 10)\n",
    "\n",
    "plt.rcParams.update({'font.size': 14})\n",
    "\n",
    "plt.plot(list_rounds, list_val_acc, '.-', label='val_acc')\n",
    "plt.xlabel('Rounds')\n",
    "plt.ylabel('Acc')\n",
    "\n",
    "plt.legend()\n",
    "plt.show()"
   ]
  },
  {
   "cell_type": "markdown",
   "metadata": {},
   "source": [
    "# 3. Evaluation"
   ]
  },
  {
   "cell_type": "code",
   "execution_count": 14,
   "metadata": {},
   "outputs": [
    {
     "name": "stdout",
     "output_type": "stream",
     "text": [
      "Shape of X test: (38742, 28, 28, 1)\n",
      "Shape of y test: (38742, 62)\n"
     ]
    }
   ],
   "source": [
    "# X_test = np.array([resize(image, (IMAGE_DIMENSION, IMAGE_DIMENSION)) for image in X_test])\n",
    "print(f\"Shape of X test: {X_test.shape}\")\n",
    "print(f\"Shape of y test: {y_test.shape}\")"
   ]
  },
  {
   "cell_type": "code",
   "execution_count": 15,
   "metadata": {},
   "outputs": [
    {
     "name": "stdout",
     "output_type": "stream",
     "text": [
      "Val loss: 0.9810027480125427, Val accuracy: 0.7155283689498901\n"
     ]
    }
   ],
   "source": [
    "# Evaluate model on testing data\n",
    "val_loss, val_acc = global_model.evaluate(X_test, y_test, verbose=0)\n",
    "print(f'Val loss: {val_loss}, Val accuracy: {val_acc}')"
   ]
  },
  {
   "cell_type": "code",
   "execution_count": 16,
   "metadata": {},
   "outputs": [
    {
     "name": "stdout",
     "output_type": "stream",
     "text": [
      "=== AFTER PRUNING: ==\n",
      "Number of params: 21488\n",
      "FLOPS of global model: 2860280\n",
      "\n",
      "=========================Options=============================\n",
      "-max_depth                  10000\n",
      "-min_bytes                  0\n",
      "-min_peak_bytes             0\n",
      "-min_residual_bytes         0\n",
      "-min_output_bytes           0\n",
      "-min_micros                 0\n",
      "-min_accelerator_micros     0\n",
      "-min_cpu_micros             0\n",
      "-min_params                 0\n",
      "-min_float_ops              1\n",
      "-min_occurrence             0\n",
      "-step                       -1\n",
      "-order_by                   float_ops\n",
      "-account_type_regexes       .*\n",
      "-start_name_regexes         .*\n",
      "-trim_name_regexes          \n",
      "-show_name_regexes          .*\n",
      "-hide_name_regexes          \n",
      "-account_displayed_op_only  true\n",
      "-select                     float_ops\n",
      "-output                     stdout:\n",
      "\n",
      "==================Model Analysis Report======================\n",
      "\n",
      "Doc:\n",
      "op: The nodes are operation kernel type, such as MatMul, Conv2D. Graph nodes belonging to the same type are aggregated together.\n",
      "flops: Number of float operations. Note: Please read the implementation for the math behind it.\n",
      "\n",
      "Profile:\n",
      "node name | # float_ops\n",
      "Conv2D                   2.83m float_ops (100.00%, 98.90%)\n",
      "BiasAdd                  12.61k float_ops (1.10%, 0.44%)\n",
      "MaxPool                  12.54k float_ops (0.66%, 0.44%)\n",
      "MatMul                   5.33k float_ops (0.22%, 0.19%)\n",
      "Mean                       688 float_ops (0.03%, 0.02%)\n",
      "Softmax                    310 float_ops (0.01%, 0.01%)\n",
      "\n",
      "======================End of Report==========================\n"
     ]
    }
   ],
   "source": [
    "print(\"=== AFTER PRUNING: ==\")\n",
    "print(f\"Number of params: {global_model.count_params()}\")\n",
    "flops = get_flops_keras_model(global_model).as_integer_ratio()[0]\n",
    "print(f\"FLOPS of global model: {flops}\")\n"
   ]
  },
  {
   "cell_type": "code",
   "execution_count": null,
   "metadata": {},
   "outputs": [],
   "source": []
  },
  {
   "cell_type": "code",
   "execution_count": null,
   "metadata": {},
   "outputs": [],
   "source": []
  }
 ],
 "metadata": {
  "kernelspec": {
   "display_name": "fl_env",
   "language": "python",
   "name": "python3"
  },
  "language_info": {
   "codemirror_mode": {
    "name": "ipython",
    "version": 3
   },
   "file_extension": ".py",
   "mimetype": "text/x-python",
   "name": "python",
   "nbconvert_exporter": "python",
   "pygments_lexer": "ipython3",
   "version": "3.9.18"
  }
 },
 "nbformat": 4,
 "nbformat_minor": 2
}
