{
 "cells": [
  {
   "cell_type": "markdown",
   "metadata": {},
   "source": [
    "# Description\n",
    "\n",
    "In this notebook, I will train the Sentiment140 dataset on CENTRALIZED LEARNING."
   ]
  },
  {
   "cell_type": "code",
   "execution_count": 15,
   "metadata": {},
   "outputs": [],
   "source": [
    "import os\n",
    "# os.environ[\"CUDA_VISIBLE_DEVICES\"]=\"-1\"\n",
    "os.environ['TF_CPP_MIN_LOG_LEVEL'] = '2'\n",
    "import numpy as np\n",
    "import pandas as  pd\n",
    "import re\n",
    "import gc\n",
    "import matplotlib.pyplot as plt\n",
    "import seaborn as sns\n",
    "from collections import Counter\n",
    "import nltk\n",
    "from nltk.corpus import stopwords\n",
    "from nltk.tokenize import word_tokenize\n",
    "from sklearn.model_selection import train_test_split\n",
    "from sklearn.preprocessing import LabelBinarizer\n",
    "from sklearn.metrics import accuracy_score, precision_score, recall_score, f1_score, confusion_matrix, ConfusionMatrixDisplay\n",
    "from sklearn.feature_extraction.text import TfidfVectorizer\n",
    "\n",
    "import tensorflow as tf\n",
    "tf.random.set_seed(42)\n",
    "gpus = tf.config.list_physical_devices('GPU')\n",
    "if gpus:\n",
    "  try:  tf.config.experimental.set_memory_growth(gpus[0], True)\n",
    "  except RuntimeError as e: print(e)\n",
    "from tensorflow.keras.preprocessing.text import Tokenizer\n",
    "from tensorflow.keras.preprocessing.sequence import pad_sequences\n",
    "from tensorflow.keras.layers import Input,Flatten,Embedding, Dropout,Conv1D,MaxPooling1D, Dense, GlobalMaxPooling1D,BatchNormalization,\\\n",
    "                                    Add,GlobalAveragePooling1D, Activation\n",
    "from tensorflow.keras.models import Model"
   ]
  },
  {
   "cell_type": "markdown",
   "metadata": {},
   "source": [
    "# 1. Dataset\n",
    "\n",
    "## 1.1. Load dataset"
   ]
  },
  {
   "cell_type": "code",
   "execution_count": 5,
   "metadata": {},
   "outputs": [],
   "source": [
    "PATH_DATASET = r\"data/sentiment140.csv\"\n",
    "COLUMN_NAMES = ['target', 'ids', 'date', 'flag', 'client', 'text']\n",
    "N_SAMPLES = 500_000"
   ]
  },
  {
   "cell_type": "code",
   "execution_count": 6,
   "metadata": {},
   "outputs": [],
   "source": [
    "def remove_stopwords(sentence):\n",
    "    STOP_WORDS = set(nltk.corpus.stopwords.words('english'))\n",
    "    final_sentence=[]\n",
    "    for word in sentence.split():\n",
    "        if word not in STOP_WORDS:\n",
    "            final_sentence.append(word)\n",
    "    return final_sentence\n",
    "\n",
    "def clean_sentence(sentence):\n",
    "    sentence = re.sub(r\"https?://\\S+|www\\.\\S+\",\" \",sentence) #for urls\n",
    "    sentence = re.sub(r\"<.*?>|&([a-z0-9]+|#[0-9]{1,6}|#x[0-9a-f]{1,6});\",\" \",sentence) #html tags\n",
    "    sentence = re.sub(r\"[^\\w\\s]\", \" \", sentence) # Removing the Punctuation\n",
    "    sentence = re.sub(r\"\\w*\\d\\w*\", \" \", sentence) # Removing words that have numbers\n",
    "    sentence = re.sub(r\"[0-9]+\", \" \", sentence) # Removing Digits\n",
    "    sentence = re.sub(r\"\\s+\", \" \", sentence).strip() # Cleaning white spaces\n",
    "    sentence = sentence.lower()\n",
    "    # sentence = remove_stopwords(sentence)\n",
    "    return sentence\n",
    "\n",
    "def find_rare_word(X, frequency_threshold = 1):\n",
    "    all_words = [word for sentence in X for word in sentence.split()]\n",
    "    word_counts = Counter(all_words)\n",
    "    rare_words = {word for word, count in word_counts.items() if count <= frequency_threshold}\n",
    "    return rare_words\n",
    "\n",
    "def remove_rare_words(sentence, list_rare_words):\n",
    "    \"\"\"\n",
    "    This function remove rare words from a sentence\n",
    "    \"\"\"\n",
    "    return ' '.join([word for word in word_tokenize(sentence.lower()) if word not in list_rare_words])"
   ]
  },
  {
   "cell_type": "code",
   "execution_count": 7,
   "metadata": {},
   "outputs": [
    {
     "name": "stdout",
     "output_type": "stream",
     "text": [
      "Shape of df: (500000, 6)\n"
     ]
    },
    {
     "data": {
      "text/html": [
       "<div>\n",
       "<style scoped>\n",
       "    .dataframe tbody tr th:only-of-type {\n",
       "        vertical-align: middle;\n",
       "    }\n",
       "\n",
       "    .dataframe tbody tr th {\n",
       "        vertical-align: top;\n",
       "    }\n",
       "\n",
       "    .dataframe thead th {\n",
       "        text-align: right;\n",
       "    }\n",
       "</style>\n",
       "<table border=\"1\" class=\"dataframe\">\n",
       "  <thead>\n",
       "    <tr style=\"text-align: right;\">\n",
       "      <th></th>\n",
       "      <th>target</th>\n",
       "      <th>ids</th>\n",
       "      <th>date</th>\n",
       "      <th>flag</th>\n",
       "      <th>client</th>\n",
       "      <th>text</th>\n",
       "    </tr>\n",
       "  </thead>\n",
       "  <tbody>\n",
       "    <tr>\n",
       "      <th>629785</th>\n",
       "      <td>0</td>\n",
       "      <td>2231763724</td>\n",
       "      <td>Thu Jun 18 19:00:00 PDT 2009</td>\n",
       "      <td>NO_QUERY</td>\n",
       "      <td>TaylorT21</td>\n",
       "      <td>went to the doctor... on vicodin and crutches....</td>\n",
       "    </tr>\n",
       "    <tr>\n",
       "      <th>22208</th>\n",
       "      <td>0</td>\n",
       "      <td>1557438847</td>\n",
       "      <td>Sun Apr 19 04:07:10 PDT 2009</td>\n",
       "      <td>NO_QUERY</td>\n",
       "      <td>TheFirstChibi</td>\n",
       "      <td>@fiofo Hahaha yeah. Awww I miss him on the show</td>\n",
       "    </tr>\n",
       "    <tr>\n",
       "      <th>1358092</th>\n",
       "      <td>1</td>\n",
       "      <td>2048139455</td>\n",
       "      <td>Fri Jun 05 14:43:26 PDT 2009</td>\n",
       "      <td>NO_QUERY</td>\n",
       "      <td>mariaporter</td>\n",
       "      <td>@PainterMommy LOL, better than being sick, fai...</td>\n",
       "    </tr>\n",
       "    <tr>\n",
       "      <th>1385026</th>\n",
       "      <td>1</td>\n",
       "      <td>2052710996</td>\n",
       "      <td>Sat Jun 06 01:43:31 PDT 2009</td>\n",
       "      <td>NO_QUERY</td>\n",
       "      <td>ma163</td>\n",
       "      <td>http://twitpic.com/6qe0y - My lil one wants to...</td>\n",
       "    </tr>\n",
       "    <tr>\n",
       "      <th>1579894</th>\n",
       "      <td>1</td>\n",
       "      <td>2189997489</td>\n",
       "      <td>Tue Jun 16 01:28:43 PDT 2009</td>\n",
       "      <td>NO_QUERY</td>\n",
       "      <td>huedo</td>\n",
       "      <td>@valencini but my class got a week's extension...</td>\n",
       "    </tr>\n",
       "  </tbody>\n",
       "</table>\n",
       "</div>"
      ],
      "text/plain": [
       "         target         ids                          date      flag  \\\n",
       "629785        0  2231763724  Thu Jun 18 19:00:00 PDT 2009  NO_QUERY   \n",
       "22208         0  1557438847  Sun Apr 19 04:07:10 PDT 2009  NO_QUERY   \n",
       "1358092       1  2048139455  Fri Jun 05 14:43:26 PDT 2009  NO_QUERY   \n",
       "1385026       1  2052710996  Sat Jun 06 01:43:31 PDT 2009  NO_QUERY   \n",
       "1579894       1  2189997489  Tue Jun 16 01:28:43 PDT 2009  NO_QUERY   \n",
       "\n",
       "                client                                               text  \n",
       "629785       TaylorT21  went to the doctor... on vicodin and crutches....  \n",
       "22208    TheFirstChibi   @fiofo Hahaha yeah. Awww I miss him on the show   \n",
       "1358092    mariaporter  @PainterMommy LOL, better than being sick, fai...  \n",
       "1385026          ma163  http://twitpic.com/6qe0y - My lil one wants to...  \n",
       "1579894          huedo  @valencini but my class got a week's extension...  "
      ]
     },
     "execution_count": 7,
     "metadata": {},
     "output_type": "execute_result"
    }
   ],
   "source": [
    "df = pd.read_csv(PATH_DATASET,  encoding='latin1', header=None)\n",
    "df.columns = COLUMN_NAMES\n",
    "\n",
    "if N_SAMPLES != None:\n",
    "    df = df.sample(N_SAMPLES)\n",
    "\n",
    "df['target'] = df['target'].replace(4, 1)\n",
    "\n",
    "print(f\"Shape of df: {df.shape}\")\n",
    "df.head()"
   ]
  },
  {
   "cell_type": "code",
   "execution_count": 8,
   "metadata": {},
   "outputs": [
    {
     "name": "stdout",
     "output_type": "stream",
     "text": [
      "Shape of df: (499455, 6)\n"
     ]
    },
    {
     "data": {
      "text/html": [
       "<div>\n",
       "<style scoped>\n",
       "    .dataframe tbody tr th:only-of-type {\n",
       "        vertical-align: middle;\n",
       "    }\n",
       "\n",
       "    .dataframe tbody tr th {\n",
       "        vertical-align: top;\n",
       "    }\n",
       "\n",
       "    .dataframe thead th {\n",
       "        text-align: right;\n",
       "    }\n",
       "</style>\n",
       "<table border=\"1\" class=\"dataframe\">\n",
       "  <thead>\n",
       "    <tr style=\"text-align: right;\">\n",
       "      <th></th>\n",
       "      <th>target</th>\n",
       "      <th>ids</th>\n",
       "      <th>date</th>\n",
       "      <th>flag</th>\n",
       "      <th>client</th>\n",
       "      <th>text</th>\n",
       "    </tr>\n",
       "  </thead>\n",
       "  <tbody>\n",
       "    <tr>\n",
       "      <th>629785</th>\n",
       "      <td>0</td>\n",
       "      <td>2231763724</td>\n",
       "      <td>Thu Jun 18 19:00:00 PDT 2009</td>\n",
       "      <td>NO_QUERY</td>\n",
       "      <td>TaylorT21</td>\n",
       "      <td>went to the doctor on vicodin and crutches yay me</td>\n",
       "    </tr>\n",
       "    <tr>\n",
       "      <th>22208</th>\n",
       "      <td>0</td>\n",
       "      <td>1557438847</td>\n",
       "      <td>Sun Apr 19 04:07:10 PDT 2009</td>\n",
       "      <td>NO_QUERY</td>\n",
       "      <td>TheFirstChibi</td>\n",
       "      <td>fiofo hahaha yeah awww i miss him on the show</td>\n",
       "    </tr>\n",
       "    <tr>\n",
       "      <th>1358092</th>\n",
       "      <td>1</td>\n",
       "      <td>2048139455</td>\n",
       "      <td>Fri Jun 05 14:43:26 PDT 2009</td>\n",
       "      <td>NO_QUERY</td>\n",
       "      <td>mariaporter</td>\n",
       "      <td>paintermommy lol better than being sick fainty...</td>\n",
       "    </tr>\n",
       "    <tr>\n",
       "      <th>1385026</th>\n",
       "      <td>1</td>\n",
       "      <td>2052710996</td>\n",
       "      <td>Sat Jun 06 01:43:31 PDT 2009</td>\n",
       "      <td>NO_QUERY</td>\n",
       "      <td>ma163</td>\n",
       "      <td>my lil one wants to snuggle</td>\n",
       "    </tr>\n",
       "    <tr>\n",
       "      <th>1579894</th>\n",
       "      <td>1</td>\n",
       "      <td>2189997489</td>\n",
       "      <td>Tue Jun 16 01:28:43 PDT 2009</td>\n",
       "      <td>NO_QUERY</td>\n",
       "      <td>huedo</td>\n",
       "      <td>valencini but my class got a week s extension ...</td>\n",
       "    </tr>\n",
       "  </tbody>\n",
       "</table>\n",
       "</div>"
      ],
      "text/plain": [
       "         target         ids                          date      flag  \\\n",
       "629785        0  2231763724  Thu Jun 18 19:00:00 PDT 2009  NO_QUERY   \n",
       "22208         0  1557438847  Sun Apr 19 04:07:10 PDT 2009  NO_QUERY   \n",
       "1358092       1  2048139455  Fri Jun 05 14:43:26 PDT 2009  NO_QUERY   \n",
       "1385026       1  2052710996  Sat Jun 06 01:43:31 PDT 2009  NO_QUERY   \n",
       "1579894       1  2189997489  Tue Jun 16 01:28:43 PDT 2009  NO_QUERY   \n",
       "\n",
       "                client                                               text  \n",
       "629785       TaylorT21  went to the doctor on vicodin and crutches yay me  \n",
       "22208    TheFirstChibi      fiofo hahaha yeah awww i miss him on the show  \n",
       "1358092    mariaporter  paintermommy lol better than being sick fainty...  \n",
       "1385026          ma163                        my lil one wants to snuggle  \n",
       "1579894          huedo  valencini but my class got a week s extension ...  "
      ]
     },
     "execution_count": 8,
     "metadata": {},
     "output_type": "execute_result"
    }
   ],
   "source": [
    "# Clean data frame\n",
    "df['text'] = df['text'].apply(clean_sentence)\n",
    "\n",
    "# Remove empty rows\n",
    "df = df[df['text'] != '']\n",
    "\n",
    "# Remove rows with too short text\n",
    "df = df[df['text'].apply(len) > 5]\n",
    "\n",
    "print(f\"Shape of df: {df.shape}\")\n",
    "df.head()"
   ]
  },
  {
   "cell_type": "code",
   "execution_count": 9,
   "metadata": {},
   "outputs": [
    {
     "data": {
      "image/png": "[encoded data removed]",
      "text/plain": [
       "<Figure size 800x600 with 1 Axes>"
      ]
     },
     "metadata": {},
     "output_type": "display_data"
    }
   ],
   "source": [
    "plt.figure(figsize=(8, 6))\n",
    "sns.countplot(x='target', data=df)\n",
    "plt.xlabel('Target')\n",
    "plt.ylabel('Count')\n",
    "plt.title('Count of Target Samples')\n",
    "plt.show()"
   ]
  },
  {
   "cell_type": "markdown",
   "metadata": {},
   "source": [
    "## 1.2. Load pre-train GloVe Embedding"
   ]
  },
  {
   "cell_type": "code",
   "execution_count": 10,
   "metadata": {},
   "outputs": [],
   "source": [
    "# Load pre-trained Word2Vec model\n",
    "def load_glove_embeddings(file_path):\n",
    "    \"\"\"Load GloVe embeddings from file.\"\"\"\n",
    "    embeddings_index = {}\n",
    "    with open(file_path, 'r', encoding='utf-8') as f:\n",
    "        for line in f:\n",
    "            values = line.split()\n",
    "            word = values[0]\n",
    "            coefs = np.asarray(values[1:], dtype='float32')\n",
    "            embeddings_index[word] = coefs\n",
    "    return embeddings_index\n",
    "\n",
    "glove_file_path = 'models/glove.6B.50d.txt'\n",
    "glove_embeddings = load_glove_embeddings(glove_file_path)"
   ]
  },
  {
   "cell_type": "markdown",
   "metadata": {},
   "source": [
    "## 1.3. Process data"
   ]
  },
  {
   "cell_type": "code",
   "execution_count": 11,
   "metadata": {},
   "outputs": [],
   "source": [
    "# Extract dataset\n",
    "X = np.array(df['text'])\n",
    "y = np.array(df['target'])\n",
    "\n",
    "# list_rare_words = find_rare_word(X, frequency_threshold=1)\n",
    "# print(f\"Number of rare words: {len(list_rare_words)}\")\n",
    "\n",
    "# X = [remove_rare_words(sentence, list_rare_words) for sentence in X]\n",
    "# X = np.array(X)\n",
    "# print(f\"[INFO] Remove rare words\")"
   ]
  },
  {
   "cell_type": "code",
   "execution_count": 16,
   "metadata": {},
   "outputs": [
    {
     "name": "stdout",
     "output_type": "stream",
     "text": [
      "Shape of X_train: (399564,)\n",
      "Shape of X_test: (99891,)\n"
     ]
    }
   ],
   "source": [
    "X_train, X_test, y_train, y_test=train_test_split(X, y, test_size=0.2, random_state=42)\n",
    "\n",
    "print(f\"Shape of X_train: {X_train.shape}\")\n",
    "print(f\"Shape of X_test: {X_test.shape}\")"
   ]
  },
  {
   "cell_type": "code",
   "execution_count": 17,
   "metadata": {},
   "outputs": [
    {
     "name": "stdout",
     "output_type": "stream",
     "text": [
      "Number of word in vocab: 220759\n",
      "Max longest sentence: 116\n",
      "Min shortest sentence: 1\n"
     ]
    }
   ],
   "source": [
    "max_sentence_length = 0\n",
    "min_sentence_length = 1_000\n",
    "list_vocab = set()\n",
    "\n",
    "for sample in X_train: \n",
    "    sample = sample.split()\n",
    "    if len(sample) > max_sentence_length:\n",
    "        max_sentence_length = len(sample)\n",
    "    if len(sample) < min_sentence_length:\n",
    "        min_sentence_length = len(sample)\n",
    "    for word in sample:\n",
    "        list_vocab.add(word)\n",
    "\n",
    "list_vocab = list(list_vocab)\n",
    "print(f\"Number of word in vocab: {len(list_vocab)}\")\n",
    "print(f\"Max longest sentence: {max_sentence_length}\")\n",
    "print(f\"Min shortest sentence: {min_sentence_length}\")"
   ]
  },
  {
   "cell_type": "code",
   "execution_count": 18,
   "metadata": {},
   "outputs": [],
   "source": [
    "# # Update token vocabulary.\n",
    "# tokenizer = Tokenizer(num_words=len(list_vocab))\n",
    "# tokenizer.fit_on_texts(X)\n",
    "# print(\"[INFO] Done update vocabulary.\")\n",
    "\n",
    "# # Transform text to sequence of integer\n",
    "# X_train = tokenizer.texts_to_sequences(X_train)\n",
    "# X_test = tokenizer.texts_to_sequences(X_test)\n",
    "# print(\"[INFO] Done transform text to integers.\")\n",
    "\n",
    "# # Padding sequence of integers.\n",
    "# X_train = pad_sequences(X_train, maxlen=max_sentence_length, padding='post')\n",
    "# X_test = pad_sequences(X_test, maxlen=max_sentence_length, padding='post')\n",
    "# print(\"[INFO] Done padding.\\n\")"
   ]
  },
  {
   "cell_type": "code",
   "execution_count": 19,
   "metadata": {},
   "outputs": [],
   "source": [
    "def Text_2_Vector(text, embeddings, max_sentence_length = 100, dims=50):\n",
    "    \"\"\"\n",
    "    Convert text to vector using pre-trained GloVe embeddings.\n",
    "    \"\"\"\n",
    "\n",
    "    vectors = np.zeros((max_sentence_length, dims), dtype=np.float32)\n",
    "\n",
    "    list_words = text.split()\n",
    "    for idx, word in enumerate(list_words):\n",
    "        if idx >= max_sentence_length:\n",
    "            break\n",
    "        vectors[idx] = embeddings.get(word, np.zeros(dims)) \n",
    "\n",
    "    if len(vectors) == 0:   # If no word found in the GloVe embeddings, return a zero vector\n",
    "        return np.zeros((max_sentence_length,dims))\n",
    "    return np.array(vectors)\n",
    "\n",
    "X_train = [Text_2_Vector(sample, glove_embeddings) for sample in X_train]\n",
    "X_train = np.array(X_train)\n",
    "X_test = [Text_2_Vector(sample, glove_embeddings) for sample in X_test]\n",
    "X_test = np.array(X_test)"
   ]
  },
  {
   "cell_type": "code",
   "execution_count": 20,
   "metadata": {},
   "outputs": [
    {
     "name": "stdout",
     "output_type": "stream",
     "text": [
      "Shape of X_train: (399564, 100, 50)\n",
      "Shape of X_test: (99891, 100, 50)\n"
     ]
    },
    {
     "data": {
      "text/plain": [
       "2683"
      ]
     },
     "execution_count": 20,
     "metadata": {},
     "output_type": "execute_result"
    }
   ],
   "source": [
    "print(f\"Shape of X_train: {X_train.shape}\")\n",
    "print(f\"Shape of X_test: {X_test.shape}\")\n",
    "\n",
    "X = y = None\n",
    "df = None\n",
    "gc.collect()"
   ]
  },
  {
   "cell_type": "markdown",
   "metadata": {},
   "source": [
    "# 2. Define model"
   ]
  },
  {
   "cell_type": "code",
   "execution_count": 21,
   "metadata": {},
   "outputs": [],
   "source": [
    "def build_cnn_model(max_length, vocab_length, window=5, dim=10):\n",
    "    INPUT = Input((max_length,))\n",
    "    x = Embedding((vocab_length + 1), dim)(INPUT)\n",
    "    x = Conv1D(32, window, activation='relu')(x)\n",
    "    x = MaxPooling1D(3)(x)\n",
    "    \n",
    "    x = Conv1D(64, window, activation='relu')(x)\n",
    "    x = MaxPooling1D(3)(x)\n",
    "    \n",
    "    x = Conv1D(128, window, activation='relu')(x)\n",
    "    x = GlobalMaxPooling1D()(x)\n",
    "    \n",
    "    x = Dropout(0.5)(x)\n",
    "    x = Dense(1, activation='sigmoid')(x)\n",
    "    model = Model(INPUT, x)\n",
    "    return model\n",
    "\n",
    "def convolution_block(x, n_filters, filter_window, drop_out_rate=0.1):\n",
    "    x = Conv1D(n_filters, filter_window)(x)\n",
    "    x = BatchNormalization()(x)\n",
    "    x = Activation('relu')(x)\n",
    "    x = Dropout(drop_out_rate)(x)\n",
    "    x = MaxPooling1D(pool_size=3, strides=2)(x)\n",
    "    return x\n",
    "\n",
    "\n",
    "def build_cnn_model_without_embedding(filter_window=5, max_sentence_length = 100, dims=50):\n",
    "    input_layer = Input((max_sentence_length,dims))\n",
    "    x = convolution_block(input_layer, n_filters=32, filter_window=filter_window)\n",
    "    x = convolution_block(x, n_filters=32, filter_window=filter_window)\n",
    "    x = convolution_block(x, n_filters=64, filter_window=filter_window)\n",
    "    x = convolution_block(x, n_filters=128, filter_window=filter_window)\n",
    "    x = Flatten()(x)\n",
    "    x = Dense(1, activation='sigmoid')(x)\n",
    "    model = Model(input_layer, x)\n",
    "    return model"
   ]
  },
  {
   "cell_type": "code",
   "execution_count": 22,
   "metadata": {},
   "outputs": [
    {
     "name": "stdout",
     "output_type": "stream",
     "text": [
      "Model: \"model\"\n",
      "_________________________________________________________________\n",
      " Layer (type)                Output Shape              Param #   \n",
      "=================================================================\n",
      " input_1 (InputLayer)        [(None, 100, 50)]         0         \n",
      "                                                                 \n",
      " conv1d (Conv1D)             (None, 96, 32)            8032      \n",
      "                                                                 \n",
      " batch_normalization (Batch  (None, 96, 32)            128       \n",
      " Normalization)                                                  \n",
      "                                                                 \n",
      " activation (Activation)     (None, 96, 32)            0         \n",
      "                                                                 \n",
      " dropout (Dropout)           (None, 96, 32)            0         \n",
      "                                                                 \n",
      " max_pooling1d (MaxPooling1  (None, 47, 32)            0         \n",
      " D)                                                              \n",
      "                                                                 \n",
      " conv1d_1 (Conv1D)           (None, 43, 32)            5152      \n",
      "                                                                 \n",
      " batch_normalization_1 (Bat  (None, 43, 32)            128       \n",
      " chNormalization)                                                \n",
      "                                                                 \n",
      " activation_1 (Activation)   (None, 43, 32)            0         \n",
      "                                                                 \n",
      " dropout_1 (Dropout)         (None, 43, 32)            0         \n",
      "                                                                 \n",
      " max_pooling1d_1 (MaxPoolin  (None, 21, 32)            0         \n",
      " g1D)                                                            \n",
      "                                                                 \n",
      " conv1d_2 (Conv1D)           (None, 17, 64)            10304     \n",
      "                                                                 \n",
      " batch_normalization_2 (Bat  (None, 17, 64)            256       \n",
      " chNormalization)                                                \n",
      "                                                                 \n",
      " activation_2 (Activation)   (None, 17, 64)            0         \n",
      "                                                                 \n",
      " dropout_2 (Dropout)         (None, 17, 64)            0         \n",
      "                                                                 \n",
      " max_pooling1d_2 (MaxPoolin  (None, 8, 64)             0         \n",
      " g1D)                                                            \n",
      "                                                                 \n",
      " conv1d_3 (Conv1D)           (None, 4, 128)            41088     \n",
      "                                                                 \n",
      " batch_normalization_3 (Bat  (None, 4, 128)            512       \n",
      " chNormalization)                                                \n",
      "                                                                 \n",
      " activation_3 (Activation)   (None, 4, 128)            0         \n",
      "                                                                 \n",
      " dropout_3 (Dropout)         (None, 4, 128)            0         \n",
      "                                                                 \n",
      " max_pooling1d_3 (MaxPoolin  (None, 1, 128)            0         \n",
      " g1D)                                                            \n",
      "                                                                 \n",
      " flatten (Flatten)           (None, 128)               0         \n",
      "                                                                 \n",
      " dense (Dense)               (None, 1)                 129       \n",
      "                                                                 \n",
      "=================================================================\n",
      "Total params: 65729 (256.75 KB)\n",
      "Trainable params: 65217 (254.75 KB)\n",
      "Non-trainable params: 512 (2.00 KB)\n",
      "_________________________________________________________________\n"
     ]
    }
   ],
   "source": [
    "tf.keras.backend.clear_session()\n",
    "model = build_cnn_model_without_embedding(filter_window=5, max_sentence_length=100, dims=50)\n",
    "model.compile(loss='binary_crossentropy', optimizer='adam', metrics=['accuracy'])\n",
    "model.summary()"
   ]
  },
  {
   "cell_type": "markdown",
   "metadata": {},
   "source": [
    "# 3. Training"
   ]
  },
  {
   "cell_type": "code",
   "execution_count": 23,
   "metadata": {},
   "outputs": [
    {
     "name": "stdout",
     "output_type": "stream",
     "text": [
      "Epoch 1/10\n",
      "2498/2498 [==============================] - 11s 3ms/step - loss: 0.5774 - accuracy: 0.6952 - val_loss: 0.5415 - val_accuracy: 0.7306\n",
      "Epoch 2/10\n",
      "2498/2498 [==============================] - 7s 3ms/step - loss: 0.5269 - accuracy: 0.7366 - val_loss: 0.5143 - val_accuracy: 0.7480\n",
      "Epoch 3/10\n",
      "2498/2498 [==============================] - 7s 3ms/step - loss: 0.5122 - accuracy: 0.7464 - val_loss: 0.5131 - val_accuracy: 0.7490\n",
      "Epoch 4/10\n",
      "2498/2498 [==============================] - 7s 3ms/step - loss: 0.5032 - accuracy: 0.7531 - val_loss: 0.5139 - val_accuracy: 0.7450\n",
      "Epoch 5/10\n",
      "2498/2498 [==============================] - 7s 3ms/step - loss: 0.4971 - accuracy: 0.7575 - val_loss: 0.5022 - val_accuracy: 0.7545\n",
      "Epoch 6/10\n",
      "2498/2498 [==============================] - 7s 3ms/step - loss: 0.4918 - accuracy: 0.7606 - val_loss: 0.4959 - val_accuracy: 0.7601\n",
      "Epoch 7/10\n",
      "2498/2498 [==============================] - 7s 3ms/step - loss: 0.4884 - accuracy: 0.7628 - val_loss: 0.4880 - val_accuracy: 0.7643\n",
      "Epoch 8/10\n",
      "2498/2498 [==============================] - 7s 3ms/step - loss: 0.4853 - accuracy: 0.7645 - val_loss: 0.4853 - val_accuracy: 0.7664\n",
      "Epoch 9/10\n",
      "2498/2498 [==============================] - 7s 3ms/step - loss: 0.4821 - accuracy: 0.7677 - val_loss: 0.4904 - val_accuracy: 0.7599\n",
      "Epoch 10/10\n",
      "2498/2498 [==============================] - 7s 3ms/step - loss: 0.4798 - accuracy: 0.7683 - val_loss: 0.4851 - val_accuracy: 0.7660\n"
     ]
    }
   ],
   "source": [
    "BATCH_SIZE = 128\n",
    "NUM_EPOCHS = 10\n",
    "\n",
    "history = model.fit(X_train, y_train, batch_size=BATCH_SIZE, epochs=NUM_EPOCHS, validation_split=0.2)"
   ]
  },
  {
   "cell_type": "code",
   "execution_count": 24,
   "metadata": {},
   "outputs": [
    {
     "name": "stdout",
     "output_type": "stream",
     "text": [
      "3122/3122 [==============================] - 2s 650us/step\n",
      "Accuracy: 0.768197\n",
      "Precision: 0.769352\n",
      "Recall: 0.768185\n",
      "F1 score: 0.767943\n"
     ]
    }
   ],
   "source": [
    "y_pred = model.predict(X_test)\n",
    "y_pred = y_pred > 0.5\n",
    "\n",
    "accuracy = accuracy_score(y_test, y_pred)\n",
    "precision = precision_score(y_test, y_pred, average='macro')\n",
    "recall = recall_score(y_test, y_pred, average='macro')\n",
    "f1 = f1_score(y_test, y_pred, average='macro')\n",
    "\n",
    "print('Accuracy: %f' % accuracy)\n",
    "print('Precision: %f' % precision)\n",
    "print('Recall: %f' % recall)\n",
    "print('F1 score: %f' % f1)"
   ]
  },
  {
   "cell_type": "code",
   "execution_count": null,
   "metadata": {},
   "outputs": [],
   "source": []
  },
  {
   "cell_type": "code",
   "execution_count": null,
   "metadata": {},
   "outputs": [],
   "source": []
  },
  {
   "cell_type": "code",
   "execution_count": null,
   "metadata": {},
   "outputs": [],
   "source": []
  },
  {
   "cell_type": "code",
   "execution_count": null,
   "metadata": {},
   "outputs": [],
   "source": []
  },
  {
   "cell_type": "code",
   "execution_count": null,
   "metadata": {},
   "outputs": [],
   "source": []
  }
 ],
 "metadata": {
  "kernelspec": {
   "display_name": "fl_env",
   "language": "python",
   "name": "python3"
  },
  "language_info": {
   "codemirror_mode": {
    "name": "ipython",
    "version": 3
   },
   "file_extension": ".py",
   "mimetype": "text/x-python",
   "name": "python",
   "nbconvert_exporter": "python",
   "pygments_lexer": "ipython3",
   "version": "3.9.18"
  }
 },
 "nbformat": 4,
 "nbformat_minor": 2
}
